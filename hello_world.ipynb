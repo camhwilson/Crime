{
 "cells": [
  {
   "cell_type": "code",
   "execution_count": null,
   "metadata": {},
   "outputs": [],
   "source": [
    "\n",
    "import requests\n",
    "\n",
    "from dataclasses import dataclass\n",
    "\n",
    "import json\n"
   ]
  },
  {
   "cell_type": "code",
   "execution_count": null,
   "metadata": {},
   "outputs": [],
   "source": [
    "url = 'https://data.wprdc.org/api/3/action/datastore_search?resource_id=1c59b26a-1684-4bfb-92f7-205b947530cf&limit=10000' \n",
    "\n",
    "\n",
    "fileobj = requests.get(url)\n"
   ]
  },
  {
   "cell_type": "code",
   "execution_count": null,
   "metadata": {},
   "outputs": [],
   "source": [
    "jayson = fileobj.json()\n",
    "json_li = jayson['result']['records']\n"
   ]
  },
  {
   "cell_type": "code",
   "execution_count": null,
   "metadata": {},
   "outputs": [],
   "source": [
    "field_li = [jayson['result']['fields'][i]['id'] for i in range(len(jayson['result']['fields']))]"
   ]
  },
  {
   "cell_type": "code",
   "execution_count": null,
   "metadata": {},
   "outputs": [],
   "source": [
    "field_li"
   ]
  },
  {
   "cell_type": "code",
   "execution_count": null,
   "metadata": {},
   "outputs": [],
   "source": [
    "print(json_li[0])"
   ]
  },
  {
   "cell_type": "code",
   "execution_count": null,
   "metadata": {},
   "outputs": [],
   "source": [
    "result_string = json.dumps(json_li)\n",
    "with open('overdose_data.json', 'w') as outfile:\n",
    "    outfile.write(result_string)"
   ]
  },
  {
   "cell_type": "code",
   "execution_count": 1,
   "metadata": {},
   "outputs": [],
   "source": [
    "\n",
    "import requests\n",
    "\n",
    "from dataclasses import dataclass\n",
    "\n",
    "import json\n",
    "\n",
    "from collections import Counter"
   ]
  },
  {
   "cell_type": "code",
   "execution_count": 2,
   "metadata": {},
   "outputs": [],
   "source": [
    "class HashableList(list):\n",
    "    #list of lists is not hashable by counter, create custom data type\n",
    "    def __init__(self, val):\n",
    "        #init function sorts input list upon initialization\n",
    "        self.val = sorted(val)\n",
    "    \n",
    "    def __hash__(self):\n",
    "        #make hashable\n",
    "        return(hash(str(self.val)))\n",
    "\n",
    "    def __repr__(self):\n",
    "        #get clean output\n",
    "        return str(self.val)\n",
    "\n",
    "    def __eq__(self, other):\n",
    "        #equality checking func\n",
    "        return str(self.val) == str(other.val)\n",
    "    \n",
    "    def __len__(self):\n",
    "        #length function\n",
    "        return len(self.val)\n",
    "    \n",
    "    def __getitem__(self, index):\n",
    "        #retrieve list elem by index\n",
    "        return self.val[index]"
   ]
  },
  {
   "cell_type": "code",
   "execution_count": 3,
   "metadata": {},
   "outputs": [],
   "source": [
    "@dataclass\n",
    "class Overdose:\n",
    "    \n",
    "    overdose_dict: dict\n",
    "\n",
    "    def __post_init__(self):\n",
    "        self._id = self.overdose_dict['_id']\n",
    "        self.death_date_and_time = self.overdose_dict['death_date_and_time']\n",
    "        self.manner_of_death = self.overdose_dict['manner_of_death']\n",
    "        self.age = self.overdose_dict['age']\n",
    "        self.sex = self.overdose_dict['sex']\n",
    "        self.race = self.overdose_dict['race']\n",
    "        self.case_dispo = self.overdose_dict['case_dispo']\n",
    "        \n",
    "        all_ods = [self.overdose_dict['combined_od1'],\n",
    "            self.overdose_dict['combined_od2'],\n",
    "            self.overdose_dict['combined_od3'],\n",
    "            self.overdose_dict['combined_od4'],\n",
    "            self.overdose_dict['combined_od5'],\n",
    "            self.overdose_dict['combined_od6'],\n",
    "            self.overdose_dict['combined_od7'],\n",
    "            self.overdose_dict['combined_od8'],\n",
    "            self.overdose_dict['combined_od9'],\n",
    "            self.overdose_dict['combined_od10']]\n",
    "        \n",
    "        self.drug_list = HashableList([i for i in all_ods if i is not None])\n",
    "\n",
    "        self.incident_zip = self.overdose_dict['incident_zip']\n",
    "        self.decedent_zip = self.overdose_dict['decedent_zip']\n",
    "        self.case_time = self.overdose_dict['case_year']"
   ]
  },
  {
   "cell_type": "code",
   "execution_count": 28,
   "metadata": {},
   "outputs": [],
   "source": [
    "def convert_tuple_li_to_dict(tuple_li):\n",
    "    d = {}\n",
    "    for i in tuple_li:\n",
    "        d[i[0]] = i[1]\n",
    "    return d"
   ]
  },
  {
   "cell_type": "code",
   "execution_count": 29,
   "metadata": {},
   "outputs": [],
   "source": [
    "with open('overdose_data.json', 'r') as f:\n",
    "  data = json.load(f)"
   ]
  },
  {
   "cell_type": "code",
   "execution_count": 30,
   "metadata": {},
   "outputs": [],
   "source": [
    "od_list = []\n",
    "for dict in data:\n",
    "    od_list.append(Overdose(dict))"
   ]
  },
  {
   "cell_type": "code",
   "execution_count": 31,
   "metadata": {},
   "outputs": [],
   "source": [
    "single_drug_li = [i.drug_list[0] for i in od_list if len(i.drug_list)==1]\n",
    "single_drug_tuple_li = (Counter(single_drug_li).most_common(10))"
   ]
  },
  {
   "cell_type": "code",
   "execution_count": 32,
   "metadata": {},
   "outputs": [],
   "source": [
    "multiple_drug_li = [i.drug_list for i in od_list if len(i.drug_list)>1]\n",
    "multiple_drug_tuple_li = Counter(multiple_drug_li).most_common(10)"
   ]
  },
  {
   "cell_type": "code",
   "execution_count": 53,
   "metadata": {},
   "outputs": [
    {
     "data": {
      "image/png": "[encoded data removed]",
      "text/plain": [
       "<Figure size 432x288 with 1 Axes>"
      ]
     },
     "metadata": {},
     "output_type": "display_data"
    }
   ],
   "source": [
    "import matplotlib.pyplot as plt\n",
    "\n",
    "plt.style.use('ggplot')\n",
    "\n",
    "x = [i[0] for i in single_drug_tuple_li]\n",
    "y = [i[1] for i in single_drug_tuple_li]\n",
    "\n",
    "plt.barh(x, y)\n",
    "\n",
    "plt.xlabel(\"Drug\")\n",
    "plt.ylabel(\"Overdose Deaths\")\n",
    "plt.title(\"Overdose Deaths By Drug Type\")\n",
    "\n",
    "plt.show()\n"
   ]
  },
  {
   "cell_type": "code",
   "execution_count": null,
   "metadata": {},
   "outputs": [],
   "source": []
  }
 ],
 "metadata": {
  "interpreter": {
   "hash": "0868bc3bd6e6c67fa23daeca11e9954c13345a9d897115d7326a5b994a8a40a9"
  },
  "kernelspec": {
   "display_name": "Python 3.8.5 64-bit",
   "language": "python",
   "name": "python3"
  },
  "language_info": {
   "codemirror_mode": {
    "name": "ipython",
    "version": 3
   },
   "file_extension": ".py",
   "mimetype": "text/x-python",
   "name": "python",
   "nbconvert_exporter": "python",
   "pygments_lexer": "ipython3",
   "version": "3.8.5"
  },
  "orig_nbformat": 4
 },
 "nbformat": 4,
 "nbformat_minor": 2
}
