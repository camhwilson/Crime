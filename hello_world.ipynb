{
 "cells": [
  {
   "cell_type": "code",
   "execution_count": 1,
   "metadata": {},
   "outputs": [],
   "source": [
    "\n",
    "import requests\n",
    "\n",
    "from dataclasses import dataclass\n",
    "\n",
    "import json"
   ]
  },
  {
   "cell_type": "code",
   "execution_count": 2,
   "metadata": {},
   "outputs": [],
   "source": [
    "url = 'https://data.wprdc.org/api/3/action/datastore_search?resource_id=e16d4ab3-842a-4f39-9ad7-ce5921002280&limit=1000000'  \n",
    "fileobj = requests.get(url)\n"
   ]
  },
  {
   "cell_type": "code",
   "execution_count": 4,
   "metadata": {},
   "outputs": [],
   "source": [
    "jayson = fileobj.json()\n",
    "json_li = jayson['result']['records']\n"
   ]
  },
  {
   "cell_type": "code",
   "execution_count": 5,
   "metadata": {},
   "outputs": [],
   "source": [
    "result_string = json.dumps(json_li)\n",
    "with open('json_data.json', 'w') as outfile:\n",
    "    outfile.write(result_string)"
   ]
  },
  {
   "cell_type": "code",
   "execution_count": 31,
   "metadata": {},
   "outputs": [],
   "source": [
    "Dog_list = []\n",
    "for dict in json_li:\n",
    "    li = list(dict.values())\n",
    "    Dog_list.append(Dog(*li))"
   ]
  },
  {
   "cell_type": "code",
   "execution_count": 36,
   "metadata": {},
   "outputs": [
    {
     "data": {
      "text/plain": [
       "'15046'"
      ]
     },
     "execution_count": 36,
     "metadata": {},
     "output_type": "execute_result"
    }
   ],
   "source": [
    "Dog_list[0].zip"
   ]
  },
  {
   "cell_type": "code",
   "execution_count": 32,
   "metadata": {},
   "outputs": [],
   "source": [
    "city_limits = [i for i in Dog_list if i.zip in neighborhood_dict.keys()]"
   ]
  },
  {
   "cell_type": "code",
   "execution_count": 35,
   "metadata": {},
   "outputs": [
    {
     "data": {
      "text/plain": [
       "{'Allentown/Arlington',\n",
       " 'Bloomfield',\n",
       " 'Downtown/Strip District',\n",
       " 'Highland Park',\n",
       " 'Lawrenceville',\n",
       " 'Mount Washington',\n",
       " 'Northside East',\n",
       " 'Northside West',\n",
       " 'Oakland',\n",
       " 'Perry',\n",
       " 'Shadyside',\n",
       " 'Southside Flats',\n",
       " 'Squirrel Hill',\n",
       " 'The Hill'}"
      ]
     },
     "execution_count": 35,
     "metadata": {},
     "output_type": "execute_result"
    }
   ],
   "source": []
  },
  {
   "cell_type": "code",
   "execution_count": 42,
   "metadata": {},
   "outputs": [],
   "source": [
    "squirrel_hill = [i for i in city_limits if i.neighborhood == 'Squirrel Hill']"
   ]
  },
  {
   "cell_type": "code",
   "execution_count": 43,
   "metadata": {},
   "outputs": [
    {
     "name": "stdout",
     "output_type": "stream",
     "text": [
      "24\n"
     ]
    }
   ],
   "source": [
    "print(len(squirrel_hill))"
   ]
  },
  {
   "cell_type": "code",
   "execution_count": 44,
   "metadata": {},
   "outputs": [
    {
     "name": "stdout",
     "output_type": "stream",
     "text": [
      "['GER SHEPHERD', 'AM PITT BULL MIX', 'POODLE STANDARD', 'SCHNOODLE', 'YORKSHIRE TERRIER', 'CAV KING CHAR SPANI', 'TERRIER', 'GOLDENDOODLE', 'SFT COAT WHEAT TERR', 'TAG', 'PARSON RUSSELL TERR', 'BRITTANY SPANIEL', 'LAB MIX', 'MIXED', 'STAFFORDSHIRE TERRI', 'SHIBA INU', 'COTON DE TULEAR', 'COTON DE TULEAR', 'MIXED', 'LABRADOR RETRIEVER', 'SHEPHERD MIX', 'MIXED', 'POMERANIAN', 'POMERANIAN']\n"
     ]
    }
   ],
   "source": [
    "print([i.breed for i in squirrel_hill])"
   ]
  }
 ],
 "metadata": {
  "interpreter": {
   "hash": "0868bc3bd6e6c67fa23daeca11e9954c13345a9d897115d7326a5b994a8a40a9"
  },
  "kernelspec": {
   "display_name": "Python 3.8.5 64-bit",
   "language": "python",
   "name": "python3"
  },
  "language_info": {
   "codemirror_mode": {
    "name": "ipython",
    "version": 3
   },
   "file_extension": ".py",
   "mimetype": "text/x-python",
   "name": "python",
   "nbconvert_exporter": "python",
   "pygments_lexer": "ipython3",
   "version": "3.8.5"
  },
  "orig_nbformat": 4
 },
 "nbformat": 4,
 "nbformat_minor": 2
}
