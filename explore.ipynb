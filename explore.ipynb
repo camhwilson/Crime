{
 "cells": [
  {
   "cell_type": "code",
   "execution_count": 1,
   "metadata": {},
   "outputs": [],
   "source": [
    "import json"
   ]
  },
  {
   "cell_type": "code",
   "execution_count": 3,
   "metadata": {},
   "outputs": [],
   "source": [
    "with open('json_data.json', 'r') as f:\n",
    "  data = json.load(f)\n"
   ]
  },
  {
   "cell_type": "code",
   "execution_count": 5,
   "metadata": {},
   "outputs": [
    {
     "name": "stdout",
     "output_type": "stream",
     "text": [
      "[{'LicenseType': 'Dog Individual Spayed Female', 'ValidDate': '2020-12-28T09:16:29', 'Color': 'BLACK/TAN', 'Breed': 'GER SHEPHERD', 'OwnerZip': '15046', 'ExpYear': 2021, '_id': 12085531, 'DogName': 'DANCER'}, {'LicenseType': 'Dog Individual Male', 'ValidDate': '2020-12-28T09:16:29', 'Color': 'WHITE/BROWN', 'Breed': 'MIXED', 'OwnerZip': '15024', 'ExpYear': 2021, '_id': 12085532, 'DogName': 'BUDDY'}, {'LicenseType': 'Dog Senior Citizen or Disability Neutered Male', 'ValidDate': '2020-12-28T09:17:12', 'Color': 'BLACK', 'Breed': 'LABRADOR RETRIEVER', 'OwnerZip': '15133', 'ExpYear': 2021, '_id': 12085533, 'DogName': 'SAM'}, {'LicenseType': 'Dog Individual Male', 'ValidDate': '2020-12-28T09:16:29', 'Color': 'BROWN', 'Breed': 'BOXER', 'OwnerZip': '15014', 'ExpYear': 2021, '_id': 12085534, 'DogName': 'EINSTEIN'}, {'LicenseType': 'Dog Individual Spayed Female', 'ValidDate': '2020-12-28T09:16:29', 'Color': 'BLACK/BROWN', 'Breed': 'YORKSHIRE TERR MIX', 'OwnerZip': '15108', 'ExpYear': 2021, '_id': 12085535, 'DogName': 'BELLA'}]\n"
     ]
    }
   ],
   "source": []
  },
  {
   "cell_type": "code",
   "execution_count": 6,
   "metadata": {},
   "outputs": [],
   "source": [
    "from dog import Dog"
   ]
  },
  {
   "cell_type": "code",
   "execution_count": 7,
   "metadata": {},
   "outputs": [],
   "source": [
    "Dog_list = []\n",
    "for dict in data:\n",
    "    li = list(dict.values())\n",
    "    Dog_list.append(Dog(*li))"
   ]
  },
  {
   "cell_type": "code",
   "execution_count": 8,
   "metadata": {},
   "outputs": [
    {
     "name": "stdout",
     "output_type": "stream",
     "text": [
      "Dog(licensetype='Dog Individual Spayed Female', validdate='2020-12-28T09:16:29', color='BLACK/TAN', breed='GER SHEPHERD', zip='15046', expyear=2021, _id=12085531, name='DANCER')\n"
     ]
    }
   ],
   "source": [
    "print(Dog_list[0])"
   ]
  },
  {
   "cell_type": "code",
   "execution_count": 11,
   "metadata": {},
   "outputs": [],
   "source": [
    "grouped_by_zip = {}\n",
    "'15046'"
   ]
  },
  {
   "cell_type": "code",
   "execution_count": 31,
   "metadata": {},
   "outputs": [],
   "source": [
    "def sort_by_zip(Dog_list):\n",
    "    \n",
    "    grouped_by_zip = {}\n",
    "\n",
    "    for Dog in Dog_list:\n",
    "        zip = Dog.zip\n",
    "        if zip in grouped_by_zip.keys():\n",
    "            grouped_by_zip[zip].append(Dog)\n",
    "        else:\n",
    "            grouped_by_zip[zip] = [Dog]\n",
    "\n",
    "    return grouped_by_zip"
   ]
  },
  {
   "cell_type": "code",
   "execution_count": 32,
   "metadata": {},
   "outputs": [],
   "source": [
    "def return_sorted_d(grouped_by_zip, n):\n",
    "    \n",
    "    top_n_key_li = sorted(grouped_by_zip, key=lambda k: len(grouped_by_zip[k]), reverse=True)\n",
    "\n",
    "    return_dict = {}\n",
    "    \n",
    "    for i in top_n_key_li[0:n]:\n",
    "        return_dict[i] = grouped_by_zip[i]\n",
    "    \n",
    "    return return_dict"
   ]
  },
  {
   "cell_type": "code",
   "execution_count": 33,
   "metadata": {},
   "outputs": [],
   "source": [
    "grouped_by_zip = sort_by_zip(Dog_list)"
   ]
  },
  {
   "cell_type": "code",
   "execution_count": 35,
   "metadata": {},
   "outputs": [
    {
     "data": {
      "text/plain": [
       "dict_keys(['15046', '15024', '15133', '15014', '15108', '15120', '15143', '15205', '15037', '15146', '15106', '15084', '15237', '15215', '15227', '15122', '15236', '15102', '15076', '15147', '15235', '15065', '15068', '15234', '15057', '15241', '15223', '15044', '15101', '15221', '15209', '15228', '15007', '15132', '15017', '15116', '15090', '15243', '15129', '15071', '15239', '15144', '15202', '15238', '15220', '15137', '15135', '15136', '15332', '15216', '15025', '16046', '15226', '15229', '15212', '15126', '15005', '15063', '15142', '15056', '15045', '15030', '15015', '15104', '15218', '15131', '15035', '15028', '15206', '15049', '15020', '15210', '15112', '15211', '15139', '15026', '15018', '15225', '15214', '15140', '15110', '15051', '15203', '15145', '15031', '15003', '15148', '15086', '15034', '15601', '15244', '15204', '15047', '15642', '15613', '16056', '15321', '15091', '15082', '15201', '15217', '15222', '15213', '15075', '15207', '15042', '15668', '15088', '15127', '15064', '15083', '15317', '15801', '15232', '15233', '15690', '15006', '15219', '15089', '15208', '16059', '15224', '15022', '15032', '15012', '15085', '15001', '15107', '15530', '16201', '16137', '16025'])"
      ]
     },
     "execution_count": 35,
     "metadata": {},
     "output_type": "execute_result"
    }
   ],
   "source": [
    "grouped_by_zip.keys()"
   ]
  },
  {
   "cell_type": "code",
   "execution_count": 46,
   "metadata": {},
   "outputs": [],
   "source": [
    "new_di = {}\n",
    "for key, val in grouped_by_zip.items():\n",
    "    new_di[key] = len(val)"
   ]
  },
  {
   "cell_type": "code",
   "execution_count": 47,
   "metadata": {},
   "outputs": [
    {
     "name": "stdout",
     "output_type": "stream",
     "text": [
      "{'15046': 277, '15024': 1017, '15133': 776, '15014': 323, '15108': 3499, '15120': 1350, '15143': 1734, '15205': 1434, '15037': 1292, '15146': 2613, '15106': 1631, '15084': 1232, '15237': 3494, '15215': 1024, '15227': 1960, '15122': 1875, '15236': 2451, '15102': 2838, '15076': 130, '15147': 1438, '15235': 2778, '15065': 1439, '15068': 521, '15234': 1058, '15057': 856, '15241': 1806, '15223': 715, '15044': 2738, '15101': 2330, '15221': 1421, '15209': 1198, '15228': 1392, '15007': 41, '15132': 1385, '15017': 1358, '15116': 1494, '15090': 1937, '15243': 1137, '15129': 964, '15071': 1179, '15239': 2185, '15144': 450, '15202': 1481, '15238': 1229, '15220': 789, '15137': 973, '15135': 546, '15136': 1978, '15332': 181, '15216': 1115, '15025': 1407, '16046': 251, '15226': 125, '15229': 1347, '15212': 259, '15126': 702, '15005': 75, '15063': 171, '15142': 223, '15056': 89, '15045': 433, '15030': 96, '15015': 127, '15104': 297, '15218': 713, '15131': 806, '15035': 192, '15028': 30, '15206': 29, '15049': 116, '15020': 20, '15210': 192, '15112': 241, '15211': 24, '15139': 506, '15026': 192, '15018': 95, '15225': 93, '15214': 387, '15140': 251, '15110': 261, '15051': 60, '15203': 16, '15145': 511, '15031': 47, '15003': 86, '15148': 192, '15086': 31, '15034': 135, '15601': 1, '15244': 1, '15204': 21, '15047': 70, '15642': 23, '15613': 2, '16056': 3, '15321': 13, '15091': 4, '15082': 50, '15201': 25, '15217': 24, '15222': 11, '15213': 11, '15075': 16, '15207': 28, '15042': 3, '15668': 22, '15088': 45, '15127': 6, '15064': 36, '15083': 10, '15317': 2, '15801': 1, '15232': 10, '15233': 3, '15690': 1, '15006': 52, '15219': 13, '15089': 3, '15208': 10, '16059': 10, '15224': 9, '15022': 1, '15032': 11, '15012': 1, '15085': 4, '15001': 1, '15107': 1, '15530': 2, '16201': 1, '16137': 2, '16025': 1}\n"
     ]
    }
   ],
   "source": [
    "print(new_di)"
   ]
  },
  {
   "cell_type": "code",
   "execution_count": 38,
   "metadata": {},
   "outputs": [],
   "source": [
    "sorted_d = return_sorted_d(grouped_by_zip, 5)"
   ]
  },
  {
   "cell_type": "code",
   "execution_count": 43,
   "metadata": {},
   "outputs": [
    {
     "name": "stdout",
     "output_type": "stream",
     "text": [
      "132\n"
     ]
    }
   ],
   "source": [
    "print(len(grouped_by_zip.keys()))"
   ]
  },
  {
   "cell_type": "code",
   "execution_count": 40,
   "metadata": {},
   "outputs": [
    {
     "name": "stdout",
     "output_type": "stream",
     "text": [
      "15108 of length 3499\n",
      "15237 of length 3494\n",
      "15102 of length 2838\n",
      "15235 of length 2778\n",
      "15044 of length 2738\n"
     ]
    }
   ],
   "source": [
    "for key, val in sorted_d.items():\n",
    "    print(key + ' of length ' + str(len(val)))"
   ]
  },
  {
   "cell_type": "code",
   "execution_count": 41,
   "metadata": {},
   "outputs": [
    {
     "name": "stdout",
     "output_type": "stream",
     "text": [
      "538.3904453677204\n"
     ]
    }
   ],
   "source": []
  },
  {
   "cell_type": "code",
   "execution_count": null,
   "metadata": {},
   "outputs": [],
   "source": []
  }
 ],
 "metadata": {
  "interpreter": {
   "hash": "0868bc3bd6e6c67fa23daeca11e9954c13345a9d897115d7326a5b994a8a40a9"
  },
  "kernelspec": {
   "display_name": "Python 3.8.5 64-bit",
   "language": "python",
   "name": "python3"
  },
  "language_info": {
   "codemirror_mode": {
    "name": "ipython",
    "version": 3
   },
   "file_extension": ".py",
   "mimetype": "text/x-python",
   "name": "python",
   "nbconvert_exporter": "python",
   "pygments_lexer": "ipython3",
   "version": "3.8.5"
  },
  "orig_nbformat": 4
 },
 "nbformat": 4,
 "nbformat_minor": 2
}
