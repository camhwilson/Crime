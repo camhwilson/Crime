{
 "cells": [
  {
   "cell_type": "code",
   "execution_count": 1,
   "metadata": {},
   "outputs": [],
   "source": [
    "import json\n",
    "from dog import Dog"
   ]
  },
  {
   "cell_type": "code",
   "execution_count": 2,
   "metadata": {},
   "outputs": [],
   "source": [
    "with open('json_data.json', 'r') as f:\n",
    "  data = json.load(f)"
   ]
  },
  {
   "cell_type": "code",
   "execution_count": 3,
   "metadata": {},
   "outputs": [],
   "source": [
    "Dog_list = []\n",
    "for dict in data:\n",
    "    li = list(dict.values())\n",
    "    Dog_list.append(Dog(*li))"
   ]
  },
  {
   "cell_type": "code",
   "execution_count": 4,
   "metadata": {},
   "outputs": [
    {
     "name": "stdout",
     "output_type": "stream",
     "text": [
      "Dog(licensetype='Dog Individual Spayed Female', validdate='2020-12-28T09:16:29', color='BLACK/TAN', breed='GER SHEPHERD', zip='15046', expyear=2021, _id=12085531, name='DANCER')\n"
     ]
    }
   ],
   "source": [
    "print(Dog_list[0])"
   ]
  },
  {
   "cell_type": "code",
   "execution_count": 6,
   "metadata": {},
   "outputs": [],
   "source": [
    "def sort_by_zip(Dog_list):\n",
    "    \n",
    "    grouped_by_zip = {}\n",
    "\n",
    "    for Dog in Dog_list:\n",
    "        zip = Dog.zip\n",
    "        if zip in grouped_by_zip.keys():\n",
    "            grouped_by_zip[zip].append(Dog)\n",
    "        else:\n",
    "            grouped_by_zip[zip] = [Dog]\n",
    "\n",
    "    return grouped_by_zip"
   ]
  },
  {
   "cell_type": "code",
   "execution_count": 7,
   "metadata": {},
   "outputs": [],
   "source": [
    "grouped_by_zip = sort_by_zip(Dog_list)"
   ]
  },
  {
   "cell_type": "code",
   "execution_count": 9,
   "metadata": {},
   "outputs": [],
   "source": [
    "from zip import Zip"
   ]
  },
  {
   "cell_type": "code",
   "execution_count": 10,
   "metadata": {},
   "outputs": [],
   "source": [
    "zip_li = []\n",
    "for key, val in grouped_by_zip.items():\n",
    "    zip_li.append(Zip(key, val)) "
   ]
  },
  {
   "cell_type": "code",
   "execution_count": 13,
   "metadata": {},
   "outputs": [
    {
     "name": "stdout",
     "output_type": "stream",
     "text": [
      "15046\n",
      "277\n",
      "Crescent\n",
      "2640\n",
      "0.10492424242424242\n"
     ]
    }
   ],
   "source": [
    "print(zip_li[0].zip)\n",
    "print(zip_li[0].dogcount)\n",
    "print(zip_li[0].city)\n",
    "print(zip_li[0].population_this_year)\n",
    "print(zip_li[0].dogpercapita)"
   ]
  }
 ],
 "metadata": {
  "interpreter": {
   "hash": "0868bc3bd6e6c67fa23daeca11e9954c13345a9d897115d7326a5b994a8a40a9"
  },
  "kernelspec": {
   "display_name": "Python 3.8.5 64-bit",
   "language": "python",
   "name": "python3"
  },
  "language_info": {
   "codemirror_mode": {
    "name": "ipython",
    "version": 3
   },
   "file_extension": ".py",
   "mimetype": "text/x-python",
   "name": "python",
   "nbconvert_exporter": "python",
   "pygments_lexer": "ipython3",
   "version": "3.8.5"
  },
  "orig_nbformat": 4
 },
 "nbformat": 4,
 "nbformat_minor": 2
}
