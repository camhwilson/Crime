{
 "cells": [
  {
   "cell_type": "code",
   "execution_count": 1,
   "metadata": {},
   "outputs": [],
   "source": [
    "import requests\n",
    "from bs4 import BeautifulSoup\n",
    "import pandas"
   ]
  },
  {
   "cell_type": "code",
   "execution_count": 2,
   "metadata": {},
   "outputs": [],
   "source": [
    "URL = \"https://www.zip-codes.com/county/pa-allegheny.asp\"\n",
    "r = requests.get(URL)\n",
    "   \n",
    "soup = BeautifulSoup(r.content, 'html5lib')"
   ]
  },
  {
   "cell_type": "code",
   "execution_count": 3,
   "metadata": {},
   "outputs": [],
   "source": [
    "quotes=[]  # a list to store quotes\n",
    "   \n",
    "table = soup.find('table', attrs = {'class':'statTable'}) "
   ]
  },
  {
   "cell_type": "code",
   "execution_count": 4,
   "metadata": {},
   "outputs": [
    {
     "name": "stdout",
     "output_type": "stream",
     "text": [
      "<class 'bs4.element.Tag'>\n"
     ]
    }
   ],
   "source": [
    "print(type(table))"
   ]
  },
  {
   "cell_type": "code",
   "execution_count": 5,
   "metadata": {},
   "outputs": [],
   "source": [
    "table_body = table.find('tbody')"
   ]
  },
  {
   "cell_type": "code",
   "execution_count": 6,
   "metadata": {},
   "outputs": [],
   "source": [
    "data = []\n",
    "rows = table_body.find_all('tr')\n",
    "for row in rows:\n",
    "    cols = row.find_all('td')\n",
    "    cols = [ele.text.strip() for ele in cols]\n",
    "    data.append([ele for ele in cols if ele]) # Get rid of empty values"
   ]
  },
  {
   "cell_type": "code",
   "execution_count": 7,
   "metadata": {},
   "outputs": [],
   "source": [
    "#get column names\n",
    "\n",
    "colnames = data[0]\n",
    "\n",
    "data = data[1:]"
   ]
  },
  {
   "cell_type": "code",
   "execution_count": 8,
   "metadata": {},
   "outputs": [
    {
     "name": "stdout",
     "output_type": "stream",
     "text": [
      "['ZIP Code 15276', 'General', 'Pittsburgh', '0', 'Eastern', '412/724']\n"
     ]
    }
   ],
   "source": [
    "print(data[130])"
   ]
  },
  {
   "cell_type": "code",
   "execution_count": 9,
   "metadata": {},
   "outputs": [],
   "source": [
    "#convert zip code names\n",
    "converted_data = []\n",
    "for i in data:\n",
    "    if i[3] != '0':\n",
    "        zip = i[0].split(' ')[2]\n",
    "        converted_data.append([zip, *i[1:]])\n",
    "        \n"
   ]
  },
  {
   "cell_type": "code",
   "execution_count": 10,
   "metadata": {},
   "outputs": [],
   "source": [
    "df = pandas.DataFrame(converted_data, columns = colnames)"
   ]
  },
  {
   "cell_type": "code",
   "execution_count": 11,
   "metadata": {},
   "outputs": [
    {
     "data": {
      "text/html": [
       "<div>\n",
       "<style scoped>\n",
       "    .dataframe tbody tr th:only-of-type {\n",
       "        vertical-align: middle;\n",
       "    }\n",
       "\n",
       "    .dataframe tbody tr th {\n",
       "        vertical-align: top;\n",
       "    }\n",
       "\n",
       "    .dataframe thead th {\n",
       "        text-align: right;\n",
       "    }\n",
       "</style>\n",
       "<table border=\"1\" class=\"dataframe\">\n",
       "  <thead>\n",
       "    <tr style=\"text-align: right;\">\n",
       "      <th></th>\n",
       "      <th>ZIP Code</th>\n",
       "      <th>Classification</th>\n",
       "      <th>City</th>\n",
       "      <th>Population</th>\n",
       "      <th>Timezone</th>\n",
       "      <th>Area Code(s)</th>\n",
       "    </tr>\n",
       "  </thead>\n",
       "  <tbody>\n",
       "    <tr>\n",
       "      <th>0</th>\n",
       "      <td>15006</td>\n",
       "      <td>P.O. Box</td>\n",
       "      <td>Bairdford</td>\n",
       "      <td>240</td>\n",
       "      <td>Eastern</td>\n",
       "      <td>724</td>\n",
       "    </tr>\n",
       "    <tr>\n",
       "      <th>1</th>\n",
       "      <td>15007</td>\n",
       "      <td>General</td>\n",
       "      <td>Bakerstown</td>\n",
       "      <td>323</td>\n",
       "      <td>Eastern</td>\n",
       "      <td>724</td>\n",
       "    </tr>\n",
       "    <tr>\n",
       "      <th>2</th>\n",
       "      <td>15014</td>\n",
       "      <td>General</td>\n",
       "      <td>Brackenridge</td>\n",
       "      <td>3,184</td>\n",
       "      <td>Eastern</td>\n",
       "      <td>724/878</td>\n",
       "    </tr>\n",
       "    <tr>\n",
       "      <th>3</th>\n",
       "      <td>15015</td>\n",
       "      <td>General</td>\n",
       "      <td>Bradfordwoods</td>\n",
       "      <td>1,175</td>\n",
       "      <td>Eastern</td>\n",
       "      <td>724/412</td>\n",
       "    </tr>\n",
       "    <tr>\n",
       "      <th>4</th>\n",
       "      <td>15017</td>\n",
       "      <td>General</td>\n",
       "      <td>Bridgeville</td>\n",
       "      <td>16,213</td>\n",
       "      <td>Eastern</td>\n",
       "      <td>412</td>\n",
       "    </tr>\n",
       "  </tbody>\n",
       "</table>\n",
       "</div>"
      ],
      "text/plain": [
       "  ZIP Code Classification           City Population Timezone Area Code(s)\n",
       "0    15006       P.O. Box      Bairdford        240  Eastern          724\n",
       "1    15007        General     Bakerstown        323  Eastern          724\n",
       "2    15014        General   Brackenridge      3,184  Eastern      724/878\n",
       "3    15015        General  Bradfordwoods      1,175  Eastern      724/412\n",
       "4    15017        General    Bridgeville     16,213  Eastern          412"
      ]
     },
     "execution_count": 11,
     "metadata": {},
     "output_type": "execute_result"
    }
   ],
   "source": [
    "df.head()"
   ]
  },
  {
   "cell_type": "code",
   "execution_count": 12,
   "metadata": {},
   "outputs": [],
   "source": [
    "df.to_csv('zcodepopulationdata.csv')"
   ]
  }
 ],
 "metadata": {
  "interpreter": {
   "hash": "0868bc3bd6e6c67fa23daeca11e9954c13345a9d897115d7326a5b994a8a40a9"
  },
  "kernelspec": {
   "display_name": "Python 3.8.5 64-bit",
   "language": "python",
   "name": "python3"
  },
  "language_info": {
   "codemirror_mode": {
    "name": "ipython",
    "version": 3
   },
   "file_extension": ".py",
   "mimetype": "text/x-python",
   "name": "python",
   "nbconvert_exporter": "python",
   "pygments_lexer": "ipython3",
   "version": "3.8.5"
  },
  "orig_nbformat": 4
 },
 "nbformat": 4,
 "nbformat_minor": 2
}
